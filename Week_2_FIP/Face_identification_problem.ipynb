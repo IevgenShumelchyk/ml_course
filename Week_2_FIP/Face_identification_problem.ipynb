{
 "cells": [
  {
   "cell_type": "markdown",
   "metadata": {},
   "source": [
    "# Face identification problem\n",
    "\n",
    "**Task**\n",
    "Challenge yourself with image classification task for solving face identification problem on ORL dataset available here.\n",
    "\n",
    "**Goal**\n",
    "The aim of this project is listed (but not limited to) below:\n",
    "    - Familiarize yourself with EDA (Exploratory Data Analysis) technique on the concrete example with dataset of people’ faces.\n",
    "    - Implement simplest classification algorithm with Python language.\n",
    "    - Investigate general techniques of normalization and optimization.\n",
    "    - Experience yourself in report with detailed explanation of applied strategy and the achieved results.\n",
    "You can familiarize yourself with the common methods in CV (Computer Vision), image processing, and face recognition on the example here.\n"
   ]
  },
  {
   "cell_type": "code",
   "execution_count": 3,
   "metadata": {},
   "outputs": [],
   "source": [
    "import numpy as np\n",
    "import matplotlib.pyplot as plt\n",
    "# import h5py\n",
    "# import scipy\n",
    "# from PIL import Image\n",
    "# from scipy import ndimage\n",
    "\n",
    "%matplotlib inline"
   ]
  },
  {
   "cell_type": "code",
   "execution_count": 16,
   "metadata": {},
   "outputs": [
    {
     "name": "stdout",
     "output_type": "stream",
     "text": [
      "Train faces count = 8\n",
      "Verif faces count = 2\n"
     ]
    }
   ],
   "source": [
    "# model const & parameters \n",
    "faces_folder = 'att_faces/'\n",
    "person_count = 40\n",
    "faces_count = 10\n",
    "train_percent = 80.0\n",
    "\n",
    "faces_count_train = round (faces_count * train_percent / 100)\n",
    "faces_count_verif = faces_count - faces_count_train\n",
    "print (\"Train faces count = \" + str(faces_count_train))\n",
    "print (\"Verif faces count = \" + str(faces_count_verif))"
   ]
  },
  {
   "cell_type": "code",
   "execution_count": 18,
   "metadata": {},
   "outputs": [],
   "source": [
    "def load_datasets ():\n",
    "    #     TODO: implement the function\n",
    "    \n",
    "    pass\n",
    "\n",
    "   "
   ]
  },
  {
   "cell_type": "code",
   "execution_count": 19,
   "metadata": {},
   "outputs": [],
   "source": [
    "# Loading the data (faces)\n",
    "load_datasets ()"
   ]
  },
  {
   "cell_type": "code",
   "execution_count": null,
   "metadata": {},
   "outputs": [],
   "source": []
  },
  {
   "cell_type": "code",
   "execution_count": null,
   "metadata": {},
   "outputs": [],
   "source": []
  }
 ],
 "metadata": {
  "kernelspec": {
   "display_name": "Python 3",
   "language": "python",
   "name": "python3"
  },
  "language_info": {
   "codemirror_mode": {
    "name": "ipython",
    "version": 3
   },
   "file_extension": ".py",
   "mimetype": "text/x-python",
   "name": "python",
   "nbconvert_exporter": "python",
   "pygments_lexer": "ipython3",
   "version": "3.6.4"
  }
 },
 "nbformat": 4,
 "nbformat_minor": 2
}
